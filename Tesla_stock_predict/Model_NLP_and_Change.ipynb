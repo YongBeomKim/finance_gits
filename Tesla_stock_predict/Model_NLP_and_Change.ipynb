{
 "cells": [
  {
   "cell_type": "code",
   "execution_count": 1,
   "metadata": {},
   "outputs": [],
   "source": [
    "import pandas as pd\n",
    "import ast\n",
    "\n",
    "import matplotlib.pyplot as plt\n",
    "\n",
    "from sklearn.preprocessing import MultiLabelBinarizer\n",
    "\n",
    "from nltk.stem import WordNetLemmatizer\n",
    "from nltk.tokenize import RegexpTokenizer\n",
    "from nltk.corpus import stopwords\n",
    "from sklearn.feature_extraction.text import CountVectorizer"
   ]
  },
  {
   "cell_type": "markdown",
   "metadata": {},
   "source": [
    "## Elon Musk's Tweets"
   ]
  },
  {
   "cell_type": "code",
   "execution_count": 169,
   "metadata": {},
   "outputs": [],
   "source": [
    "elon = pd.read_csv('twitter/elonmusk_tweets.csv')"
   ]
  },
  {
   "cell_type": "code",
   "execution_count": 170,
   "metadata": {},
   "outputs": [],
   "source": [
    "elon.text = elon.text.str.lstrip('b')\n",
    "elon.created_at = pd.to_datetime(elon.created_at)\n",
    "elon['date'] = elon.created_at.apply(lambda x: x.date())"
   ]
  },
  {
   "cell_type": "code",
   "execution_count": 171,
   "metadata": {},
   "outputs": [],
   "source": [
    "# NLP processing from the nltk package\n",
    "# Instantiate tokenizer to break text into lists of words\n",
    "#tokenizer = RegexpTokenizer(r'\\w+')\n",
    "tokenizer = RegexpTokenizer(r'[a-zA-Z0-9_@-]+')\n",
    "# Instantiate lemmatizer to turn plural words into singular for better comparison\n",
    "lemmatizer = WordNetLemmatizer()"
   ]
  },
  {
   "cell_type": "code",
   "execution_count": 172,
   "metadata": {},
   "outputs": [],
   "source": [
    "# First let's turn each title into a list of words\n",
    "elon['nlp_text'] = elon.text.apply(lambda x: tokenizer.tokenize(x.lower()))\n",
    "# Then we'll use the lemmatizer to change plurals to singulars to group them\n",
    "elon.nlp_text = elon.nlp_text.apply(lambda x: [lemmatizer.lemmatize(i) for i in x])\n",
    "# And rejoin the lists of words to one string for the count vectorizer\n",
    "elon.nlp_text = elon.nlp_text.apply(lambda x: ' '.join(x))"
   ]
  },
  {
   "cell_type": "code",
   "execution_count": 173,
   "metadata": {},
   "outputs": [],
   "source": [
    "elon.nlp_text = elon.nlp_text + ' '\n",
    "elon = elon.groupby('date')['nlp_text'].sum()\n",
    "elon = pd.DataFrame(elon)\n",
    "elon.columns = ['elon_tweet']"
   ]
  },
  {
   "cell_type": "markdown",
   "metadata": {},
   "source": [
    "## Tesla company tweets"
   ]
  },
  {
   "cell_type": "code",
   "execution_count": 174,
   "metadata": {},
   "outputs": [],
   "source": [
    "tesla = pd.read_csv('twitter/Tesla_tweets.csv')"
   ]
  },
  {
   "cell_type": "code",
   "execution_count": 175,
   "metadata": {},
   "outputs": [],
   "source": [
    "tesla.text = tesla.text.str.lstrip('b')\n",
    "tesla.created_at = pd.to_datetime(tesla.created_at)\n",
    "tesla['date'] = tesla.created_at.apply(lambda x: x.date())"
   ]
  },
  {
   "cell_type": "code",
   "execution_count": 176,
   "metadata": {},
   "outputs": [],
   "source": [
    "# First let's turn each title into a list of words\n",
    "tesla['nlp_text'] = tesla.text.apply(lambda x: tokenizer.tokenize(x.lower()))\n",
    "# Then we'll use the lemmatizer to change plurals to singulars to group them\n",
    "tesla.nlp_text = tesla.nlp_text.apply(lambda x: [lemmatizer.lemmatize(i) for i in x])\n",
    "# And rejoin the lists of words to one string for the count vectorizer\n",
    "tesla.nlp_text = tesla.nlp_text.apply(lambda x: ' '.join(x))"
   ]
  },
  {
   "cell_type": "code",
   "execution_count": 177,
   "metadata": {},
   "outputs": [],
   "source": [
    "tesla.nlp_text = tesla.nlp_text + ' '\n",
    "tesla = tesla.groupby('date')['nlp_text'].sum()\n",
    "tesla = pd.DataFrame(tesla)\n",
    "tesla.columns = ['tesla_tweet']"
   ]
  },
  {
   "cell_type": "markdown",
   "metadata": {},
   "source": [
    "## Techmeme headlines"
   ]
  },
  {
   "cell_type": "code",
   "execution_count": 178,
   "metadata": {},
   "outputs": [],
   "source": [
    "techmeme = pd.read_csv('web_scraping/techmeme.csv', index_col=0)"
   ]
  },
  {
   "cell_type": "code",
   "execution_count": 179,
   "metadata": {},
   "outputs": [],
   "source": [
    "techmeme['date_time'] = pd.to_datetime(techmeme.date)\n",
    "techmeme.date = techmeme.date_time.apply(lambda x: x.date())\n",
    "techmeme.extra_sources = techmeme.extra_sources.apply(lambda x: ast.literal_eval(x))"
   ]
  },
  {
   "cell_type": "code",
   "execution_count": 180,
   "metadata": {},
   "outputs": [],
   "source": [
    "techmeme['sources'] = techmeme.extra_sources.copy()\n",
    "# Ben helped me with this lovely for loop...\n",
    "for i, list_ in enumerate(techmeme.sources):\n",
    "    list_.append(techmeme.original_source[i])"
   ]
  },
  {
   "cell_type": "code",
   "execution_count": 181,
   "metadata": {},
   "outputs": [],
   "source": [
    "techmeme.original_title = techmeme.original_title.apply(lambda x: x.replace('\\n', ''))\n",
    "techmeme.extra_titles = techmeme.extra_titles.apply(lambda x: x.lstrip('[').rstrip(']'))\n",
    "techmeme['titles'] = techmeme.original_title + ' ' + techmeme.extra_titles"
   ]
  },
  {
   "cell_type": "code",
   "execution_count": 182,
   "metadata": {},
   "outputs": [],
   "source": [
    "# First let's turn each title into a list of words\n",
    "techmeme['nlp_text'] = techmeme.titles.apply(lambda x: tokenizer.tokenize(x.lower()))\n",
    "# Then we'll use the lemmatizer to change plurals to singulars to group them\n",
    "techmeme.nlp_text = techmeme.nlp_text.apply(lambda x: [lemmatizer.lemmatize(i) for i in x])\n",
    "# And rejoin the lists of words to one string for the count vectorizer\n",
    "techmeme.nlp_text = techmeme.nlp_text.apply(lambda x: ' '.join(x))"
   ]
  },
  {
   "cell_type": "code",
   "execution_count": 183,
   "metadata": {},
   "outputs": [],
   "source": [
    "techmeme.columns = ['date', 'original_source', 'original_title', 'extra_sources',\n",
    "       'extra_titles', 'date_time', 'news_sources', 'titles', 'news_text']"
   ]
  },
  {
   "cell_type": "code",
   "execution_count": 184,
   "metadata": {},
   "outputs": [],
   "source": [
    "techmeme.news_text = techmeme.news_text + ' '\n",
    "techmeme = techmeme.groupby('date')['news_sources', 'news_text'].sum()"
   ]
  },
  {
   "cell_type": "markdown",
   "metadata": {},
   "source": [
    "# Combine them onto stock data\n",
    "\n",
    "In merging, I noticed that I was not retaining the same amounts of information.  I realized that since I do not have stock information on weekends, I have nothing to link tweets or news that happens over the weekend.  I should push this to help predict Monday prices, but I am not yet sure how to do that."
   ]
  },
  {
   "cell_type": "code",
   "execution_count": 18,
   "metadata": {},
   "outputs": [],
   "source": [
    "stock = pd.read_csv('TESLAHistoricalQuotes.csv')\n",
    "stock = stock.drop(0,0)\n",
    "stock.date = pd.to_datetime(stock.date)\n",
    "stock.date = stock.date.apply(lambda x: x.date())\n",
    "stock = stock.sort_values('date')\n",
    "stock.volume = stock.volume.astype(float)\n",
    "stock.set_index(stock.date, inplace=True)\n",
    "stock = stock.drop('date', 1)\n",
    "stock = pd.merge(stock, techmeme, how='left', left_index=True, right_index=True)\n",
    "stock = pd.merge(stock, tesla, how='left', left_index=True, right_index=True)\n",
    "stock = pd.merge(stock, elon, how='left', left_index=True, right_index=True)\n",
    "stock['daily_gain'] = stock.close - stock.open\n",
    "stock['daily_change'] = stock.daily_gain / stock.open\n",
    "stock['target'] = stock.daily_gain.shift(-1)"
   ]
  },
  {
   "cell_type": "code",
   "execution_count": 19,
   "metadata": {},
   "outputs": [
    {
     "data": {
      "text/html": [
       "<div>\n",
       "<style scoped>\n",
       "    .dataframe tbody tr th:only-of-type {\n",
       "        vertical-align: middle;\n",
       "    }\n",
       "\n",
       "    .dataframe tbody tr th {\n",
       "        vertical-align: top;\n",
       "    }\n",
       "\n",
       "    .dataframe thead th {\n",
       "        text-align: right;\n",
       "    }\n",
       "</style>\n",
       "<table border=\"1\" class=\"dataframe\">\n",
       "  <thead>\n",
       "    <tr style=\"text-align: right;\">\n",
       "      <th></th>\n",
       "      <th>close</th>\n",
       "      <th>volume</th>\n",
       "      <th>open</th>\n",
       "      <th>high</th>\n",
       "      <th>low</th>\n",
       "      <th>news_sources</th>\n",
       "      <th>news_text</th>\n",
       "      <th>tesla_tweet</th>\n",
       "      <th>elon_tweet</th>\n",
       "      <th>daily_gain</th>\n",
       "      <th>daily_change</th>\n",
       "      <th>target</th>\n",
       "    </tr>\n",
       "    <tr>\n",
       "      <th>date</th>\n",
       "      <th></th>\n",
       "      <th></th>\n",
       "      <th></th>\n",
       "      <th></th>\n",
       "      <th></th>\n",
       "      <th></th>\n",
       "      <th></th>\n",
       "      <th></th>\n",
       "      <th></th>\n",
       "      <th></th>\n",
       "      <th></th>\n",
       "      <th></th>\n",
       "    </tr>\n",
       "  </thead>\n",
       "  <tbody>\n",
       "    <tr>\n",
       "      <th>2017-11-16</th>\n",
       "      <td>312.50</td>\n",
       "      <td>5794409.0</td>\n",
       "      <td>313.99</td>\n",
       "      <td>318.14</td>\n",
       "      <td>311.30</td>\n",
       "      <td>NaN</td>\n",
       "      <td>NaN</td>\n",
       "      <td>NaN</td>\n",
       "      <td>NaN</td>\n",
       "      <td>-1.49</td>\n",
       "      <td>-0.004745</td>\n",
       "      <td>-10.62</td>\n",
       "    </tr>\n",
       "    <tr>\n",
       "      <th>2017-11-17</th>\n",
       "      <td>315.05</td>\n",
       "      <td>13720830.0</td>\n",
       "      <td>325.67</td>\n",
       "      <td>326.67</td>\n",
       "      <td>313.15</td>\n",
       "      <td>NaN</td>\n",
       "      <td>NaN</td>\n",
       "      <td>going into plaid http t co ouu9s7cuwi bamf htt...</td>\n",
       "      <td>tesla semi http t co 7vlz7f46ji 0 to 100 km h ...</td>\n",
       "      <td>-10.62</td>\n",
       "      <td>-0.032610</td>\n",
       "      <td>-5.05</td>\n",
       "    </tr>\n",
       "    <tr>\n",
       "      <th>2017-11-20</th>\n",
       "      <td>308.74</td>\n",
       "      <td>8241821.0</td>\n",
       "      <td>313.79</td>\n",
       "      <td>315.50</td>\n",
       "      <td>304.75</td>\n",
       "      <td>NaN</td>\n",
       "      <td>NaN</td>\n",
       "      <td>NaN</td>\n",
       "      <td>@schesnais good point</td>\n",
       "      <td>-5.05</td>\n",
       "      <td>-0.016094</td>\n",
       "      <td>6.95</td>\n",
       "    </tr>\n",
       "    <tr>\n",
       "      <th>2017-11-21</th>\n",
       "      <td>317.81</td>\n",
       "      <td>7256381.0</td>\n",
       "      <td>310.86</td>\n",
       "      <td>318.23</td>\n",
       "      <td>308.71</td>\n",
       "      <td>NaN</td>\n",
       "      <td>NaN</td>\n",
       "      <td>NaN</td>\n",
       "      <td>initial hat offering going great w over 300k i...</td>\n",
       "      <td>6.95</td>\n",
       "      <td>0.022357</td>\n",
       "      <td>-4.17</td>\n",
       "    </tr>\n",
       "    <tr>\n",
       "      <th>2017-11-22</th>\n",
       "      <td>312.60</td>\n",
       "      <td>4913283.0</td>\n",
       "      <td>316.77</td>\n",
       "      <td>317.42</td>\n",
       "      <td>311.84</td>\n",
       "      <td>NaN</td>\n",
       "      <td>NaN</td>\n",
       "      <td>NaN</td>\n",
       "      <td>NaN</td>\n",
       "      <td>-4.17</td>\n",
       "      <td>-0.013164</td>\n",
       "      <td>NaN</td>\n",
       "    </tr>\n",
       "  </tbody>\n",
       "</table>\n",
       "</div>"
      ],
      "text/plain": [
       "             close      volume    open    high     low news_sources news_text  \\\n",
       "date                                                                            \n",
       "2017-11-16  312.50   5794409.0  313.99  318.14  311.30          NaN       NaN   \n",
       "2017-11-17  315.05  13720830.0  325.67  326.67  313.15          NaN       NaN   \n",
       "2017-11-20  308.74   8241821.0  313.79  315.50  304.75          NaN       NaN   \n",
       "2017-11-21  317.81   7256381.0  310.86  318.23  308.71          NaN       NaN   \n",
       "2017-11-22  312.60   4913283.0  316.77  317.42  311.84          NaN       NaN   \n",
       "\n",
       "                                                  tesla_tweet  \\\n",
       "date                                                            \n",
       "2017-11-16                                                NaN   \n",
       "2017-11-17  going into plaid http t co ouu9s7cuwi bamf htt...   \n",
       "2017-11-20                                                NaN   \n",
       "2017-11-21                                                NaN   \n",
       "2017-11-22                                                NaN   \n",
       "\n",
       "                                                   elon_tweet  daily_gain  \\\n",
       "date                                                                        \n",
       "2017-11-16                                                NaN       -1.49   \n",
       "2017-11-17  tesla semi http t co 7vlz7f46ji 0 to 100 km h ...      -10.62   \n",
       "2017-11-20                             @schesnais good point        -5.05   \n",
       "2017-11-21  initial hat offering going great w over 300k i...        6.95   \n",
       "2017-11-22                                                NaN       -4.17   \n",
       "\n",
       "            daily_change  target  \n",
       "date                              \n",
       "2017-11-16     -0.004745  -10.62  \n",
       "2017-11-17     -0.032610   -5.05  \n",
       "2017-11-20     -0.016094    6.95  \n",
       "2017-11-21      0.022357   -4.17  \n",
       "2017-11-22     -0.013164     NaN  "
      ]
     },
     "execution_count": 19,
     "metadata": {},
     "output_type": "execute_result"
    }
   ],
   "source": [
    "stock.tail()"
   ]
  },
  {
   "cell_type": "markdown",
   "metadata": {},
   "source": [
    "# Add Change Data as Target"
   ]
  },
  {
   "cell_type": "code",
   "execution_count": 20,
   "metadata": {},
   "outputs": [],
   "source": [
    "# I will add both and see which makes the most sense\n",
    "stock['daily_gain'] = stock.close - stock.open\n",
    "stock['daily_change'] = stock.daily_gain / stock.open"
   ]
  },
  {
   "cell_type": "code",
   "execution_count": 21,
   "metadata": {},
   "outputs": [],
   "source": [
    "# We'll use gain first because that is the most useful for my purposes (saving more than $5 is necessary as it is cost of trade)\n",
    "stock['target'] = stock.daily_gain.shift(-1)"
   ]
  },
  {
   "cell_type": "markdown",
   "metadata": {},
   "source": [
    "# Use CountVectorizer"
   ]
  },
  {
   "cell_type": "code",
   "execution_count": 22,
   "metadata": {},
   "outputs": [],
   "source": [
    "temp_df = stock[stock.news_text.notnull()]\n",
    "cvec = CountVectorizer(stop_words=stopwords.words('english'), ngram_range=(1,2), max_features=1000)\n",
    "cvec.fit(temp_df.news_text.dropna())\n",
    "cvec_df  = pd.DataFrame(cvec.transform(temp_df.news_text.dropna()).todense(), columns=cvec.get_feature_names())\n",
    "cvec_df.index = temp_df.index\n",
    "cvec_df.columns += \" _news_\"\n",
    "stock = stock.join(cvec_df).drop('news_text',1)\n",
    "\n",
    "temp_df = stock[stock.tesla_tweet.notnull()]\n",
    "cvec.fit(temp_df.tesla_tweet.dropna())\n",
    "cvec_df  = pd.DataFrame(cvec.transform(temp_df.tesla_tweet.dropna()).todense(), columns=cvec.get_feature_names())\n",
    "cvec_df.index = temp_df.index\n",
    "cvec_df.columns += \" _tesla_\"\n",
    "stock = stock.join(cvec_df).drop('tesla_tweet',1)\n",
    "\n",
    "temp_df = stock[stock.elon_tweet.notnull()]\n",
    "cvec.fit(temp_df.elon_tweet.dropna())\n",
    "cvec_df  = pd.DataFrame(cvec.transform(temp_df.elon_tweet.dropna()).todense(), columns=cvec.get_feature_names())\n",
    "cvec_df.index = temp_df.index\n",
    "cvec_df.columns += \" _elon_\"\n",
    "stock = stock.join(cvec_df).drop('elon_tweet',1)\n",
    "\n",
    "del temp_df"
   ]
  },
  {
   "cell_type": "code",
   "execution_count": 23,
   "metadata": {},
   "outputs": [],
   "source": [
    "stock.news_sources = stock.news_sources.fillna('')\n",
    "mlb = MultiLabelBinarizer()\n",
    "stock = stock.join(pd.DataFrame(mlb.fit_transform(stock.news_sources), columns=mlb.classes_, index=stock.index))\n",
    "stock = stock.drop('news_sources', 1)"
   ]
  },
  {
   "cell_type": "code",
   "execution_count": 24,
   "metadata": {},
   "outputs": [],
   "source": [
    "stock = stock.fillna(0)"
   ]
  },
  {
   "cell_type": "code",
   "execution_count": 25,
   "metadata": {},
   "outputs": [
    {
     "data": {
      "text/plain": [
       "(1866, 3306)"
      ]
     },
     "execution_count": 25,
     "metadata": {},
     "output_type": "execute_result"
    }
   ],
   "source": [
    "stock.shape"
   ]
  },
  {
   "cell_type": "markdown",
   "metadata": {},
   "source": [
    "# Train/Test Split\n",
    "\n",
    "Now this data is technically not time series anymore, so I ought to be able to do a normal train test split.  It seems like news should have some sort of resiliancy over more days, but I did not see any of that in the EDA."
   ]
  },
  {
   "cell_type": "code",
   "execution_count": 26,
   "metadata": {},
   "outputs": [],
   "source": [
    "from sklearn.model_selection import train_test_split\n",
    "from sklearn.metrics import confusion_matrix, accuracy_score, precision_score, roc_auc_score"
   ]
  },
  {
   "cell_type": "code",
   "execution_count": 27,
   "metadata": {},
   "outputs": [],
   "source": [
    "# I could drop all the prior day info, because I saw no autocorrelation, but it just seems... odd.\n",
    "X_train, X_test, y_train, y_test = train_test_split(stock.drop(['target'], 1), stock['target'], test_size=0.3, random_state=42)"
   ]
  },
  {
   "cell_type": "code",
   "execution_count": 28,
   "metadata": {},
   "outputs": [],
   "source": [
    "from sklearn.linear_model import LinearRegression"
   ]
  },
  {
   "cell_type": "code",
   "execution_count": 29,
   "metadata": {},
   "outputs": [],
   "source": [
    "lr = LinearRegression()"
   ]
  },
  {
   "cell_type": "code",
   "execution_count": 30,
   "metadata": {},
   "outputs": [
    {
     "data": {
      "text/plain": [
       "LinearRegression(copy_X=True, fit_intercept=True, n_jobs=1, normalize=False)"
      ]
     },
     "execution_count": 30,
     "metadata": {},
     "output_type": "execute_result"
    }
   ],
   "source": [
    "lr.fit(X_train, y_train)"
   ]
  },
  {
   "cell_type": "code",
   "execution_count": 31,
   "metadata": {},
   "outputs": [],
   "source": [
    "from sklearn.model_selection import cross_val_score, cross_val_predict\n",
    "from sklearn import metrics"
   ]
  },
  {
   "cell_type": "code",
   "execution_count": 32,
   "metadata": {},
   "outputs": [
    {
     "name": "stdout",
     "output_type": "stream",
     "text": [
      "Cross-validated scores: [ -3.84309171e+10  -4.41054402e+10  -4.29125253e+06  -1.14605854e+08\n",
      "  -1.54116437e+10  -1.22452532e+10]\n",
      "Average:  -18385358544.3\n"
     ]
    }
   ],
   "source": [
    "scores = cross_val_score(lr, X_train, y_train, cv=6)\n",
    "print(\"Cross-validated scores:\", scores)\n",
    "print(\"Average: \", scores.mean())"
   ]
  },
  {
   "cell_type": "code",
   "execution_count": 33,
   "metadata": {},
   "outputs": [
    {
     "name": "stdout",
     "output_type": "stream",
     "text": [
      "Score: -4493513377.69\n"
     ]
    },
    {
     "data": {
      "image/png": "[encoded data removed]",
      "text/plain": [
       "<matplotlib.figure.Figure at 0x114976cf8>"
      ]
     },
     "metadata": {},
     "output_type": "display_data"
    }
   ],
   "source": [
    "predictions = lr.predict(X_test)\n",
    "plt.scatter(y_test, predictions)\n",
    "plt.xlabel(\"True Values\")\n",
    "plt.ylabel(\"Predictions\")\n",
    "print(\"Score:\", lr.score(X_test, y_test))\n",
    "plt.show()"
   ]
  },
  {
   "cell_type": "code",
   "execution_count": 34,
   "metadata": {},
   "outputs": [
    {
     "name": "stderr",
     "output_type": "stream",
     "text": [
      "/anaconda/lib/python3.6/site-packages/sklearn/cross_validation.py:41: DeprecationWarning: This module was deprecated in version 0.18 in favor of the model_selection module into which all the refactored classes and functions are moved. Also note that the interface of the new CV iterators are different from that of this module. This module will be removed in 0.20.\n",
      "  \"This module will be removed in 0.20.\", DeprecationWarning)\n"
     ]
    }
   ],
   "source": [
    "from xgboost import XGBRegressor"
   ]
  },
  {
   "cell_type": "code",
   "execution_count": 35,
   "metadata": {},
   "outputs": [],
   "source": [
    "xgb = XGBRegressor(gamma=0, learning_rate=0.02, max_depth=3, n_estimators=100)"
   ]
  },
  {
   "cell_type": "code",
   "execution_count": 36,
   "metadata": {},
   "outputs": [
    {
     "data": {
      "text/plain": [
       "XGBRegressor(base_score=0.5, colsample_bylevel=1, colsample_bytree=1, gamma=0,\n",
       "       learning_rate=0.02, max_delta_step=0, max_depth=3,\n",
       "       min_child_weight=1, missing=None, n_estimators=100, nthread=-1,\n",
       "       objective='reg:linear', reg_alpha=0, reg_lambda=1,\n",
       "       scale_pos_weight=1, seed=0, silent=True, subsample=1)"
      ]
     },
     "execution_count": 36,
     "metadata": {},
     "output_type": "execute_result"
    }
   ],
   "source": [
    "xgb.fit(X_train, y_train)"
   ]
  },
  {
   "cell_type": "code",
   "execution_count": 37,
   "metadata": {},
   "outputs": [
    {
     "name": "stdout",
     "output_type": "stream",
     "text": [
      "Score: -0.0126137236781\n"
     ]
    },
    {
     "data": {
      "image/png": "[encoded data removed]",
      "text/plain": [
       "<matplotlib.figure.Figure at 0x11faac2b0>"
      ]
     },
     "metadata": {},
     "output_type": "display_data"
    }
   ],
   "source": [
    "predictions = xgb.predict(X_test)\n",
    "plt.scatter(y_test, predictions)\n",
    "plt.xlabel(\"True Values\")\n",
    "plt.ylabel(\"Predictions\")\n",
    "print(\"Score:\", xgb.score(X_test, y_test))\n",
    "plt.show()"
   ]
  },
  {
   "cell_type": "code",
   "execution_count": 38,
   "metadata": {},
   "outputs": [],
   "source": [
    "from sklearn import metrics"
   ]
  },
  {
   "cell_type": "code",
   "execution_count": 39,
   "metadata": {},
   "outputs": [
    {
     "name": "stdout",
     "output_type": "stream",
     "text": [
      "Cross-Predicted Accuracy: -0.0126137236781\n"
     ]
    }
   ],
   "source": [
    "accuracy = metrics.r2_score(y_test, predictions)\n",
    "print(\"Cross-Predicted Accuracy:\", accuracy)"
   ]
  },
  {
   "cell_type": "code",
   "execution_count": 40,
   "metadata": {},
   "outputs": [],
   "source": [
    "X_train, X_test, y_train, y_test = train_test_split(stock.iloc[915:-1].drop(['target'], 1), stock.iloc[915:-1]['target'], test_size=0.3, random_state=42)"
   ]
  },
  {
   "cell_type": "code",
   "execution_count": 41,
   "metadata": {},
   "outputs": [
    {
     "name": "stdout",
     "output_type": "stream",
     "text": [
      "Score: 0.0170629618254\n"
     ]
    },
    {
     "data": {
      "image/png": "[encoded data removed]",
      "text/plain": [
       "<matplotlib.figure.Figure at 0x11fae0c18>"
      ]
     },
     "metadata": {},
     "output_type": "display_data"
    }
   ],
   "source": [
    "xgb.fit(X_train, y_train)\n",
    "predictions = xgb.predict(X_test)\n",
    "plt.scatter(y_test, predictions)\n",
    "plt.xlabel(\"True Values\")\n",
    "plt.ylabel(\"Predictions\")\n",
    "print(\"Score:\", xgb.score(X_test, y_test))\n",
    "plt.show()"
   ]
  },
  {
   "cell_type": "markdown",
   "metadata": {},
   "source": [
    "Well, it's positive."
   ]
  },
  {
   "cell_type": "markdown",
   "metadata": {},
   "source": [
    "# Let's turn this into a classification problem\n",
    "\n",
    "(And pray)"
   ]
  },
  {
   "cell_type": "code",
   "execution_count": 42,
   "metadata": {},
   "outputs": [],
   "source": [
    "stock['target_class'] = stock.target.apply(lambda x: 1 if x >= 0 else 0)"
   ]
  },
  {
   "cell_type": "code",
   "execution_count": 43,
   "metadata": {},
   "outputs": [
    {
     "data": {
      "text/plain": [
       "0    957\n",
       "1    909\n",
       "Name: target_class, dtype: int64"
      ]
     },
     "execution_count": 43,
     "metadata": {},
     "output_type": "execute_result"
    }
   ],
   "source": [
    "stock.target_class.value_counts()"
   ]
  },
  {
   "cell_type": "code",
   "execution_count": 44,
   "metadata": {},
   "outputs": [],
   "source": [
    "X_train, X_test, y_train, y_test = train_test_split(stock.iloc[915:-1].drop(['target', 'target_class'], 1), stock.iloc[915:-1]['target_class'], test_size=0.3, random_state=42)"
   ]
  },
  {
   "cell_type": "markdown",
   "metadata": {},
   "source": [
    "### Evaluation Function"
   ]
  },
  {
   "cell_type": "code",
   "execution_count": 45,
   "metadata": {},
   "outputs": [],
   "source": [
    "def eval_sklearn_model(y_true, predictions, model=None, X=None):\n",
    "    \"\"\"This function takes the true values for y and the predictions made by the model and prints out the confusion matrix along with Accuracy, Precision, and, if model and X provided, Roc_Auc Scores.\"\"\"\n",
    "    cnf_matrix = confusion_matrix(y_true, predictions)\n",
    "\n",
    "    print('True Negative: ', cnf_matrix[0, 0], '| False Positive: ', cnf_matrix[0, 1])\n",
    "    print('False Negative: ', cnf_matrix[1, 0], '| True Positive: ', cnf_matrix[1, 1], '\\n')\n",
    "\n",
    "    sensitivity = cnf_matrix[1, 1]/ (cnf_matrix[1, 0] + cnf_matrix[1, 1])\n",
    "    specificity = cnf_matrix[0, 0]/ (cnf_matrix[0, 1] + cnf_matrix[0, 0])\n",
    "\n",
    "    print('Sensitivity (TP/ TP + FN): ', sensitivity)\n",
    "    print('Specificity (TN/ TN + FP): ', specificity, '\\n')\n",
    "\n",
    "    print('Accuracy: ', accuracy_score(y_true, predictions, normalize=True))\n",
    "    print('Precision: ', precision_score(y_true, predictions))\n",
    "    if model != None:\n",
    "        print('Roc-Auc: ', roc_auc_score(y_true, [x[1] for x in model.predict_proba(X)]))\n",
    "    else:\n",
    "        pass\n",
    "    print('\\n')"
   ]
  },
  {
   "cell_type": "code",
   "execution_count": 46,
   "metadata": {},
   "outputs": [],
   "source": [
    "from xgboost import XGBClassifier"
   ]
  },
  {
   "cell_type": "code",
   "execution_count": 47,
   "metadata": {},
   "outputs": [
    {
     "name": "stdout",
     "output_type": "stream",
     "text": [
      "True Negative:  87 | False Positive:  53\n",
      "False Negative:  92 | True Positive:  53 \n",
      "\n",
      "Sensitivity (TP/ TP + FN):  0.365517241379\n",
      "Specificity (TN/ TN + FP):  0.621428571429 \n",
      "\n",
      "Accuracy:  0.491228070175\n",
      "Precision:  0.5\n",
      "Roc-Auc:  0.510123152709\n",
      "\n",
      "\n"
     ]
    }
   ],
   "source": [
    "xgb = XGBClassifier(objective='binary:logistic')\n",
    "xgb.fit(X_train, y_train)\n",
    "test_predictions = xgb.predict(X_test)\n",
    "eval_sklearn_model(y_test, test_predictions, model=xgb, X=X_test)"
   ]
  },
  {
   "cell_type": "markdown",
   "metadata": {},
   "source": [
    "# Sentiment Analysis"
   ]
  },
  {
   "cell_type": "code",
   "execution_count": 48,
   "metadata": {},
   "outputs": [
    {
     "name": "stderr",
     "output_type": "stream",
     "text": [
      "/anaconda/lib/python3.6/site-packages/nltk/twitter/__init__.py:20: UserWarning: The twython library has not been installed. Some functionality from the twitter package will not be available.\n",
      "  warnings.warn(\"The twython library has not been installed. \"\n"
     ]
    }
   ],
   "source": [
    "from nltk.sentiment.vader import SentimentIntensityAnalyzer as SIA"
   ]
  },
  {
   "cell_type": "code",
   "execution_count": 49,
   "metadata": {},
   "outputs": [],
   "source": [
    "# Reload data as I dropped the nlp columns with count vect\n",
    "stock = pd.read_csv('TESLAHistoricalQuotes.csv')\n",
    "stock = stock.drop(0,0)\n",
    "stock.date = pd.to_datetime(stock.date)\n",
    "stock.date = stock.date.apply(lambda x: x.date())\n",
    "stock = stock.sort_values('date')\n",
    "stock.volume = stock.volume.astype(float)\n",
    "stock.set_index(stock.date, inplace=True)\n",
    "stock = stock.drop('date', 1)\n",
    "stock = pd.merge(stock, techmeme, how='left', left_index=True, right_index=True)\n",
    "stock = pd.merge(stock, tesla, how='left', left_index=True, right_index=True)\n",
    "stock = pd.merge(stock, elon, how='left', left_index=True, right_index=True)\n",
    "stock['daily_gain'] = stock.close - stock.open\n",
    "stock['daily_change'] = stock.daily_gain / stock.open\n",
    "stock['target'] = stock.daily_gain.shift(-1)"
   ]
  },
  {
   "cell_type": "code",
   "execution_count": 50,
   "metadata": {},
   "outputs": [],
   "source": [
    "stock.news_sources = stock.news_sources.fillna('')\n",
    "stock.news_text = stock.news_text.fillna('')\n",
    "stock.tesla_tweet = stock.tesla_tweet.fillna('')\n",
    "stock.elon_tweet = stock.elon_tweet.fillna('')"
   ]
  },
  {
   "cell_type": "code",
   "execution_count": 51,
   "metadata": {},
   "outputs": [],
   "source": [
    "sia = SIA()\n",
    "sentiment = stock['news_text'].apply(sia.polarity_scores)\n",
    "sent = pd.DataFrame(list(sentiment))\n",
    "sent.index = stock.index"
   ]
  },
  {
   "cell_type": "code",
   "execution_count": 52,
   "metadata": {},
   "outputs": [],
   "source": [
    "sent.columns = ['news_compound', 'news_neg', 'news_neu', 'news_pos']\n",
    "stock = pd.merge(stock, sent, how='left', left_index=True, right_index=True)"
   ]
  },
  {
   "cell_type": "code",
   "execution_count": 53,
   "metadata": {},
   "outputs": [],
   "source": [
    "sentiment = stock['elon_tweet'].apply(sia.polarity_scores)\n",
    "sent = pd.DataFrame(list(sentiment))\n",
    "sent.index = stock.index\n",
    "sent.columns = ['elon_compound', 'elon_neg', 'elon_neu', 'elon_pos']\n",
    "stock = pd.merge(stock, sent, how='left', left_index=True, right_index=True)"
   ]
  },
  {
   "cell_type": "code",
   "execution_count": 54,
   "metadata": {},
   "outputs": [],
   "source": [
    "sentiment = stock['tesla_tweet'].apply(sia.polarity_scores)\n",
    "sent = pd.DataFrame(list(sentiment))\n",
    "sent.index = stock.index\n",
    "sent.columns = ['telsa_compound', 'tesla_neg', 'tesla_neu', 'tesla_pos']\n",
    "stock = pd.merge(stock, sent, how='left', left_index=True, right_index=True)"
   ]
  },
  {
   "cell_type": "markdown",
   "metadata": {},
   "source": [
    "### Note on earliest NLP relevant info\n",
    "1. elon earliest tweet 2013-03-23\n",
    "2. tesla earliest tweet 2014-02-18\n",
    "3. techmeme earliest story 2006-12-07\n",
    "\n",
    "```stock.iloc[915]``` is 2014-02-18"
   ]
  },
  {
   "cell_type": "code",
   "execution_count": 55,
   "metadata": {},
   "outputs": [
    {
     "data": {
      "text/plain": [
       "(951, 24)"
      ]
     },
     "execution_count": 55,
     "metadata": {},
     "output_type": "execute_result"
    }
   ],
   "source": [
    "stock.iloc[915:].shape"
   ]
  },
  {
   "cell_type": "code",
   "execution_count": 56,
   "metadata": {},
   "outputs": [
    {
     "data": {
      "text/plain": [
       "Index(['close', 'volume', 'open', 'high', 'low', 'news_sources', 'news_text',\n",
       "       'tesla_tweet', 'elon_tweet', 'daily_gain', 'daily_change', 'target',\n",
       "       'news_compound', 'news_neg', 'news_neu', 'news_pos', 'elon_compound',\n",
       "       'elon_neg', 'elon_neu', 'elon_pos', 'telsa_compound', 'tesla_neg',\n",
       "       'tesla_neu', 'tesla_pos'],\n",
       "      dtype='object')"
      ]
     },
     "execution_count": 56,
     "metadata": {},
     "output_type": "execute_result"
    }
   ],
   "source": [
    "stock.columns"
   ]
  },
  {
   "cell_type": "code",
   "execution_count": 57,
   "metadata": {},
   "outputs": [],
   "source": [
    "X = stock.iloc[915:-1].drop(['target', 'news_sources', 'news_text', 'tesla_tweet', 'elon_tweet'], 1)\n",
    "y = stock.iloc[915:-1].target"
   ]
  },
  {
   "cell_type": "code",
   "execution_count": 58,
   "metadata": {},
   "outputs": [],
   "source": [
    "X_train, X_test, y_train, y_test = train_test_split(X, y, test_size=0.3, random_state=42)"
   ]
  },
  {
   "cell_type": "code",
   "execution_count": 59,
   "metadata": {},
   "outputs": [
    {
     "data": {
      "text/plain": [
       "XGBRegressor(base_score=0.5, colsample_bylevel=1, colsample_bytree=1, gamma=0,\n",
       "       learning_rate=0.02, max_delta_step=0, max_depth=3,\n",
       "       min_child_weight=1, missing=None, n_estimators=100, nthread=-1,\n",
       "       objective='reg:linear', reg_alpha=0, reg_lambda=1,\n",
       "       scale_pos_weight=1, seed=0, silent=True, subsample=1)"
      ]
     },
     "execution_count": 59,
     "metadata": {},
     "output_type": "execute_result"
    }
   ],
   "source": [
    "xgb = XGBRegressor(gamma=0, learning_rate=0.02, max_depth=3, n_estimators=100)\n",
    "xgb.fit(X_train, y_train)"
   ]
  },
  {
   "cell_type": "code",
   "execution_count": 60,
   "metadata": {},
   "outputs": [
    {
     "name": "stdout",
     "output_type": "stream",
     "text": [
      "R2 Accuracy: 0.143272882714\n"
     ]
    }
   ],
   "source": [
    "accuracy = metrics.r2_score(y_train, xgb.predict(X_train))\n",
    "print(\"R2 Accuracy:\", accuracy)"
   ]
  },
  {
   "cell_type": "code",
   "execution_count": 61,
   "metadata": {},
   "outputs": [
    {
     "name": "stdout",
     "output_type": "stream",
     "text": [
      "Score: 0.0103119613995\n"
     ]
    },
    {
     "data": {
      "image/png": "[encoded data removed]",
      "text/plain": [
       "<matplotlib.figure.Figure at 0x110934630>"
      ]
     },
     "metadata": {},
     "output_type": "display_data"
    }
   ],
   "source": [
    "predictions = xgb.predict(X_test)\n",
    "plt.scatter(y_test, predictions)\n",
    "plt.xlabel(\"True Values\")\n",
    "plt.ylabel(\"Predictions\")\n",
    "print(\"Score:\", xgb.score(X_test, y_test))\n",
    "plt.show()"
   ]
  },
  {
   "cell_type": "markdown",
   "metadata": {},
   "source": [
    "Well... I mean.  Yup."
   ]
  },
  {
   "cell_type": "markdown",
   "metadata": {},
   "source": [
    "# To Classification!"
   ]
  },
  {
   "cell_type": "code",
   "execution_count": 62,
   "metadata": {},
   "outputs": [],
   "source": [
    "stock['target_class'] = stock.target.apply(lambda x: 1 if x >= 0 else 0)"
   ]
  },
  {
   "cell_type": "code",
   "execution_count": 63,
   "metadata": {},
   "outputs": [],
   "source": [
    "X = stock.iloc[915:-1].drop(['target', 'target_class', 'news_sources', 'news_text', 'tesla_tweet', 'elon_tweet'], 1)\n",
    "y = stock.iloc[915:-1].target_class"
   ]
  },
  {
   "cell_type": "code",
   "execution_count": 64,
   "metadata": {},
   "outputs": [],
   "source": [
    "X_train, X_test, y_train, y_test = train_test_split(X, y, test_size=0.3, random_state=42)"
   ]
  },
  {
   "cell_type": "code",
   "execution_count": 65,
   "metadata": {},
   "outputs": [
    {
     "name": "stdout",
     "output_type": "stream",
     "text": [
      "True Negative:  75 | False Positive:  65\n",
      "False Negative:  80 | True Positive:  65 \n",
      "\n",
      "Sensitivity (TP/ TP + FN):  0.448275862069\n",
      "Specificity (TN/ TN + FP):  0.535714285714 \n",
      "\n",
      "Accuracy:  0.491228070175\n",
      "Precision:  0.5\n",
      "Roc-Auc:  0.525738916256\n",
      "\n",
      "\n"
     ]
    }
   ],
   "source": [
    "xgb = XGBClassifier(objective='binary:logistic')\n",
    "xgb.fit(X_train, y_train)\n",
    "test_predictions = xgb.predict(X_test)\n",
    "eval_sklearn_model(y_test, test_predictions, model=xgb, X=X_test)"
   ]
  },
  {
   "cell_type": "markdown",
   "metadata": {},
   "source": [
    "Grumble, grumble"
   ]
  },
  {
   "cell_type": "markdown",
   "metadata": {},
   "source": [
    "# Can I predict the spread of a Day?\n",
    "\n",
    "Will volatility be changed by the news?"
   ]
  },
  {
   "cell_type": "code",
   "execution_count": 66,
   "metadata": {},
   "outputs": [
    {
     "data": {
      "text/html": [
       "<div>\n",
       "<style scoped>\n",
       "    .dataframe tbody tr th:only-of-type {\n",
       "        vertical-align: middle;\n",
       "    }\n",
       "\n",
       "    .dataframe tbody tr th {\n",
       "        vertical-align: top;\n",
       "    }\n",
       "\n",
       "    .dataframe thead th {\n",
       "        text-align: right;\n",
       "    }\n",
       "</style>\n",
       "<table border=\"1\" class=\"dataframe\">\n",
       "  <thead>\n",
       "    <tr style=\"text-align: right;\">\n",
       "      <th></th>\n",
       "      <th>close</th>\n",
       "      <th>volume</th>\n",
       "      <th>open</th>\n",
       "      <th>high</th>\n",
       "      <th>low</th>\n",
       "      <th>news_sources</th>\n",
       "      <th>news_text</th>\n",
       "      <th>tesla_tweet</th>\n",
       "      <th>elon_tweet</th>\n",
       "      <th>daily_gain</th>\n",
       "      <th>...</th>\n",
       "      <th>news_pos</th>\n",
       "      <th>elon_compound</th>\n",
       "      <th>elon_neg</th>\n",
       "      <th>elon_neu</th>\n",
       "      <th>elon_pos</th>\n",
       "      <th>telsa_compound</th>\n",
       "      <th>tesla_neg</th>\n",
       "      <th>tesla_neu</th>\n",
       "      <th>tesla_pos</th>\n",
       "      <th>target_class</th>\n",
       "    </tr>\n",
       "    <tr>\n",
       "      <th>date</th>\n",
       "      <th></th>\n",
       "      <th></th>\n",
       "      <th></th>\n",
       "      <th></th>\n",
       "      <th></th>\n",
       "      <th></th>\n",
       "      <th></th>\n",
       "      <th></th>\n",
       "      <th></th>\n",
       "      <th></th>\n",
       "      <th></th>\n",
       "      <th></th>\n",
       "      <th></th>\n",
       "      <th></th>\n",
       "      <th></th>\n",
       "      <th></th>\n",
       "      <th></th>\n",
       "      <th></th>\n",
       "      <th></th>\n",
       "      <th></th>\n",
       "      <th></th>\n",
       "    </tr>\n",
       "  </thead>\n",
       "  <tbody>\n",
       "    <tr>\n",
       "      <th>2010-06-29</th>\n",
       "      <td>23.89</td>\n",
       "      <td>18751150.0</td>\n",
       "      <td>19.00</td>\n",
       "      <td>25.0000</td>\n",
       "      <td>17.54</td>\n",
       "      <td></td>\n",
       "      <td></td>\n",
       "      <td></td>\n",
       "      <td></td>\n",
       "      <td>4.89</td>\n",
       "      <td>...</td>\n",
       "      <td>0.0</td>\n",
       "      <td>0.0</td>\n",
       "      <td>0.0</td>\n",
       "      <td>0.0</td>\n",
       "      <td>0.0</td>\n",
       "      <td>0.0</td>\n",
       "      <td>0.0</td>\n",
       "      <td>0.0</td>\n",
       "      <td>0.0</td>\n",
       "      <td>0</td>\n",
       "    </tr>\n",
       "    <tr>\n",
       "      <th>2010-06-30</th>\n",
       "      <td>23.83</td>\n",
       "      <td>17165210.0</td>\n",
       "      <td>25.79</td>\n",
       "      <td>30.4192</td>\n",
       "      <td>23.30</td>\n",
       "      <td></td>\n",
       "      <td></td>\n",
       "      <td></td>\n",
       "      <td></td>\n",
       "      <td>-1.96</td>\n",
       "      <td>...</td>\n",
       "      <td>0.0</td>\n",
       "      <td>0.0</td>\n",
       "      <td>0.0</td>\n",
       "      <td>0.0</td>\n",
       "      <td>0.0</td>\n",
       "      <td>0.0</td>\n",
       "      <td>0.0</td>\n",
       "      <td>0.0</td>\n",
       "      <td>0.0</td>\n",
       "      <td>0</td>\n",
       "    </tr>\n",
       "    <tr>\n",
       "      <th>2010-07-01</th>\n",
       "      <td>21.96</td>\n",
       "      <td>8216789.0</td>\n",
       "      <td>25.00</td>\n",
       "      <td>25.9200</td>\n",
       "      <td>20.27</td>\n",
       "      <td></td>\n",
       "      <td></td>\n",
       "      <td></td>\n",
       "      <td></td>\n",
       "      <td>-3.04</td>\n",
       "      <td>...</td>\n",
       "      <td>0.0</td>\n",
       "      <td>0.0</td>\n",
       "      <td>0.0</td>\n",
       "      <td>0.0</td>\n",
       "      <td>0.0</td>\n",
       "      <td>0.0</td>\n",
       "      <td>0.0</td>\n",
       "      <td>0.0</td>\n",
       "      <td>0.0</td>\n",
       "      <td>0</td>\n",
       "    </tr>\n",
       "    <tr>\n",
       "      <th>2010-07-02</th>\n",
       "      <td>19.20</td>\n",
       "      <td>5135795.0</td>\n",
       "      <td>23.00</td>\n",
       "      <td>23.1000</td>\n",
       "      <td>18.71</td>\n",
       "      <td></td>\n",
       "      <td></td>\n",
       "      <td></td>\n",
       "      <td></td>\n",
       "      <td>-3.80</td>\n",
       "      <td>...</td>\n",
       "      <td>0.0</td>\n",
       "      <td>0.0</td>\n",
       "      <td>0.0</td>\n",
       "      <td>0.0</td>\n",
       "      <td>0.0</td>\n",
       "      <td>0.0</td>\n",
       "      <td>0.0</td>\n",
       "      <td>0.0</td>\n",
       "      <td>0.0</td>\n",
       "      <td>0</td>\n",
       "    </tr>\n",
       "    <tr>\n",
       "      <th>2010-07-06</th>\n",
       "      <td>16.11</td>\n",
       "      <td>6858092.0</td>\n",
       "      <td>20.00</td>\n",
       "      <td>20.0000</td>\n",
       "      <td>15.83</td>\n",
       "      <td></td>\n",
       "      <td></td>\n",
       "      <td></td>\n",
       "      <td></td>\n",
       "      <td>-3.89</td>\n",
       "      <td>...</td>\n",
       "      <td>0.0</td>\n",
       "      <td>0.0</td>\n",
       "      <td>0.0</td>\n",
       "      <td>0.0</td>\n",
       "      <td>0.0</td>\n",
       "      <td>0.0</td>\n",
       "      <td>0.0</td>\n",
       "      <td>0.0</td>\n",
       "      <td>0.0</td>\n",
       "      <td>0</td>\n",
       "    </tr>\n",
       "  </tbody>\n",
       "</table>\n",
       "<p>5 rows × 25 columns</p>\n",
       "</div>"
      ],
      "text/plain": [
       "            close      volume   open     high    low news_sources news_text  \\\n",
       "date                                                                          \n",
       "2010-06-29  23.89  18751150.0  19.00  25.0000  17.54                          \n",
       "2010-06-30  23.83  17165210.0  25.79  30.4192  23.30                          \n",
       "2010-07-01  21.96   8216789.0  25.00  25.9200  20.27                          \n",
       "2010-07-02  19.20   5135795.0  23.00  23.1000  18.71                          \n",
       "2010-07-06  16.11   6858092.0  20.00  20.0000  15.83                          \n",
       "\n",
       "           tesla_tweet elon_tweet  daily_gain      ...       news_pos  \\\n",
       "date                                               ...                  \n",
       "2010-06-29                               4.89      ...            0.0   \n",
       "2010-06-30                              -1.96      ...            0.0   \n",
       "2010-07-01                              -3.04      ...            0.0   \n",
       "2010-07-02                              -3.80      ...            0.0   \n",
       "2010-07-06                              -3.89      ...            0.0   \n",
       "\n",
       "            elon_compound  elon_neg  elon_neu  elon_pos  telsa_compound  \\\n",
       "date                                                                      \n",
       "2010-06-29            0.0       0.0       0.0       0.0             0.0   \n",
       "2010-06-30            0.0       0.0       0.0       0.0             0.0   \n",
       "2010-07-01            0.0       0.0       0.0       0.0             0.0   \n",
       "2010-07-02            0.0       0.0       0.0       0.0             0.0   \n",
       "2010-07-06            0.0       0.0       0.0       0.0             0.0   \n",
       "\n",
       "            tesla_neg  tesla_neu  tesla_pos  target_class  \n",
       "date                                                       \n",
       "2010-06-29        0.0        0.0        0.0             0  \n",
       "2010-06-30        0.0        0.0        0.0             0  \n",
       "2010-07-01        0.0        0.0        0.0             0  \n",
       "2010-07-02        0.0        0.0        0.0             0  \n",
       "2010-07-06        0.0        0.0        0.0             0  \n",
       "\n",
       "[5 rows x 25 columns]"
      ]
     },
     "execution_count": 66,
     "metadata": {},
     "output_type": "execute_result"
    }
   ],
   "source": [
    "stock.head()"
   ]
  },
  {
   "cell_type": "code",
   "execution_count": 67,
   "metadata": {},
   "outputs": [],
   "source": [
    "stock['volatility'] = stock.high - stock.low"
   ]
  },
  {
   "cell_type": "code",
   "execution_count": 68,
   "metadata": {},
   "outputs": [],
   "source": [
    "X = stock.iloc[915:-1].drop(['target', 'target_class', 'volatility', 'high', 'low', 'close', 'volume', 'open', 'news_sources', 'news_text', 'tesla_tweet', 'elon_tweet', 'daily_gain', 'daily_change'], 1)\n",
    "y = stock.iloc[915:-1].volatility"
   ]
  },
  {
   "cell_type": "code",
   "execution_count": 69,
   "metadata": {},
   "outputs": [],
   "source": [
    "X_train, X_test, y_train, y_test = train_test_split(X, y, test_size=0.3, random_state=42)"
   ]
  },
  {
   "cell_type": "code",
   "execution_count": 70,
   "metadata": {},
   "outputs": [
    {
     "name": "stdout",
     "output_type": "stream",
     "text": [
      "R2 Accuracy: 0.0287532757729\n"
     ]
    }
   ],
   "source": [
    "xgb = XGBRegressor(gamma=0, learning_rate=0.02, max_depth=3, n_estimators=100)\n",
    "xgb.fit(X_train, y_train)\n",
    "accuracy = metrics.r2_score(y_train, xgb.predict(X_train))\n",
    "print(\"R2 Accuracy:\", accuracy)"
   ]
  },
  {
   "cell_type": "code",
   "execution_count": 71,
   "metadata": {},
   "outputs": [
    {
     "name": "stdout",
     "output_type": "stream",
     "text": [
      "Score: -0.0883789185676\n"
     ]
    },
    {
     "data": {
      "image/png": "[encoded data removed]",
      "text/plain": [
       "<matplotlib.figure.Figure at 0x1149bedd8>"
      ]
     },
     "metadata": {},
     "output_type": "display_data"
    }
   ],
   "source": [
    "predictions = xgb.predict(X_test)\n",
    "plt.scatter(y_test, predictions)\n",
    "plt.xlabel(\"True Values\")\n",
    "plt.ylabel(\"Predictions\")\n",
    "print(\"Score:\", xgb.score(X_test, y_test))\n",
    "plt.show()"
   ]
  },
  {
   "cell_type": "markdown",
   "metadata": {},
   "source": [
    "## With Count Vectorizer?"
   ]
  },
  {
   "cell_type": "code",
   "execution_count": 185,
   "metadata": {},
   "outputs": [],
   "source": [
    "def sent_analysis(dataframe):\n",
    "    sia = SIA()\n",
    "    sentiment = dataframe['news_text'].apply(sia.polarity_scores)\n",
    "    sent = pd.DataFrame(list(sentiment))\n",
    "    sent.index = dataframe.index\n",
    "    \n",
    "    sent.columns = ['news_compound', 'news_neg', 'news_neu', 'news_pos']\n",
    "    dataframe = pd.merge(dataframe, sent, how='left', left_index=True, right_index=True)\n",
    "    \n",
    "    sentiment = dataframe['elon_tweet'].apply(sia.polarity_scores)\n",
    "    sent = pd.DataFrame(list(sentiment))\n",
    "    sent.index = dataframe.index\n",
    "    sent.columns = ['elon_compound', 'elon_neg', 'elon_neu', 'elon_pos']\n",
    "    dataframe = pd.merge(dataframe, sent, how='left', left_index=True, right_index=True)\n",
    "\n",
    "    sentiment = dataframe['tesla_tweet'].apply(sia.polarity_scores)\n",
    "    sent = pd.DataFrame(list(sentiment))\n",
    "    sent.index = dataframe.index\n",
    "    sent.columns = ['telsa_compound', 'tesla_neg', 'tesla_neu', 'tesla_pos']\n",
    "    dataframe = pd.merge(dataframe, sent, how='left', left_index=True, right_index=True)\n",
    "    \n",
    "    return dataframe"
   ]
  },
  {
   "cell_type": "code",
   "execution_count": 212,
   "metadata": {},
   "outputs": [],
   "source": [
    "stock = pd.read_csv('TESLAHistoricalQuotes.csv')\n",
    "stock = stock.drop(0,0)\n",
    "stock.date = pd.to_datetime(stock.date)\n",
    "stock.date = stock.date.apply(lambda x: x.date())\n",
    "stock = stock.sort_values('date')\n",
    "stock.volume = stock.volume.astype(float)\n",
    "stock.set_index(stock.date, inplace=True)\n",
    "stock = stock.drop('date', 1)\n",
    "stock = pd.merge(stock, techmeme, how='left', left_index=True, right_index=True)\n",
    "stock = pd.merge(stock, tesla, how='left', left_index=True, right_index=True)\n",
    "stock = pd.merge(stock, elon, how='left', left_index=True, right_index=True)"
   ]
  },
  {
   "cell_type": "code",
   "execution_count": 213,
   "metadata": {},
   "outputs": [],
   "source": [
    "stock.news_text = stock.news_text.fillna('')\n",
    "stock.tesla_tweet = stock.tesla_tweet.fillna('')\n",
    "stock.elon_tweet = stock.elon_tweet.fillna('')"
   ]
  },
  {
   "cell_type": "code",
   "execution_count": 214,
   "metadata": {},
   "outputs": [],
   "source": [
    "stock = sent_analysis(stock)"
   ]
  },
  {
   "cell_type": "code",
   "execution_count": 215,
   "metadata": {},
   "outputs": [],
   "source": [
    "temp_df = stock[stock.news_text.notnull()]\n",
    "cvec = CountVectorizer(stop_words=stopwords.words('english'), ngram_range=(1,2), max_features=1000)\n",
    "cvec.fit(temp_df.news_text.dropna())\n",
    "cvec_df  = pd.DataFrame(cvec.transform(temp_df.news_text.dropna()).todense(), columns=cvec.get_feature_names())\n",
    "cvec_df.index = temp_df.index\n",
    "cvec_df.columns += \" _news_\"\n",
    "stock = stock.join(cvec_df).drop('news_text',1)\n",
    "\n",
    "temp_df = stock[stock.tesla_tweet.notnull()]\n",
    "cvec.fit(temp_df.tesla_tweet.dropna())\n",
    "cvec_df  = pd.DataFrame(cvec.transform(temp_df.tesla_tweet.dropna()).todense(), columns=cvec.get_feature_names())\n",
    "cvec_df.index = temp_df.index\n",
    "cvec_df.columns += \" _tesla_\"\n",
    "stock = stock.join(cvec_df).drop('tesla_tweet',1)\n",
    "\n",
    "temp_df = stock[stock.elon_tweet.notnull()]\n",
    "cvec.fit(temp_df.elon_tweet.dropna())\n",
    "cvec_df  = pd.DataFrame(cvec.transform(temp_df.elon_tweet.dropna()).todense(), columns=cvec.get_feature_names())\n",
    "cvec_df.index = temp_df.index\n",
    "cvec_df.columns += \" _elon_\"\n",
    "stock = stock.join(cvec_df).drop('elon_tweet',1)\n",
    "\n",
    "del temp_df"
   ]
  },
  {
   "cell_type": "code",
   "execution_count": 216,
   "metadata": {},
   "outputs": [],
   "source": [
    "stock.news_sources = stock.news_sources.fillna('')\n",
    "mlb = MultiLabelBinarizer()\n",
    "stock = stock.join(pd.DataFrame(mlb.fit_transform(stock.news_sources), columns=mlb.classes_, index=stock.index))\n",
    "stock = stock.drop('news_sources', 1)\n",
    "stock = stock.fillna(0)"
   ]
  },
  {
   "cell_type": "code",
   "execution_count": 217,
   "metadata": {},
   "outputs": [],
   "source": [
    "stock['volatility'] = stock.high - stock.low"
   ]
  },
  {
   "cell_type": "code",
   "execution_count": 222,
   "metadata": {},
   "outputs": [],
   "source": [
    "X = stock.iloc[925:-1].drop(['volatility', 'volume', 'high', 'low', 'close', 'open'], 1)\n",
    "y = stock.iloc[925:-1].volatility"
   ]
  },
  {
   "cell_type": "code",
   "execution_count": 223,
   "metadata": {},
   "outputs": [],
   "source": [
    "X_train, X_test, y_train, y_test = train_test_split(X, y, test_size=0.3, random_state=42)"
   ]
  },
  {
   "cell_type": "code",
   "execution_count": 224,
   "metadata": {},
   "outputs": [
    {
     "name": "stdout",
     "output_type": "stream",
     "text": [
      "R2 Accuracy: 0.0503138202204\n"
     ]
    }
   ],
   "source": [
    "xgb = XGBRegressor(gamma=0, learning_rate=0.02, max_depth=3, n_estimators=100)\n",
    "xgb.fit(X_train, y_train)\n",
    "accuracy = metrics.r2_score(y_train, xgb.predict(X_train))\n",
    "print(\"R2 Accuracy:\", accuracy)"
   ]
  },
  {
   "cell_type": "code",
   "execution_count": 225,
   "metadata": {},
   "outputs": [
    {
     "name": "stdout",
     "output_type": "stream",
     "text": [
      "Score: -0.080712113206\n"
     ]
    },
    {
     "data": {
      "image/png": "[encoded data removed]",
      "text/plain": [
       "<matplotlib.figure.Figure at 0x1107123c8>"
      ]
     },
     "metadata": {},
     "output_type": "display_data"
    }
   ],
   "source": [
    "predictions = xgb.predict(X_test)\n",
    "plt.scatter(y_test, predictions)\n",
    "plt.xlabel(\"True Values\")\n",
    "plt.ylabel(\"Predictions\")\n",
    "print(\"Score:\", xgb.score(X_test, y_test))\n",
    "plt.show()"
   ]
  },
  {
   "cell_type": "markdown",
   "metadata": {},
   "source": [
    "# Daily Change?"
   ]
  },
  {
   "cell_type": "code",
   "execution_count": 199,
   "metadata": {},
   "outputs": [],
   "source": [
    "stock['daily_gain'] = stock.close - stock.open\n",
    "stock['daily_change'] = stock.daily_gain / stock.open"
   ]
  },
  {
   "cell_type": "code",
   "execution_count": 200,
   "metadata": {},
   "outputs": [
    {
     "data": {
      "text/html": [
       "<div>\n",
       "<style scoped>\n",
       "    .dataframe tbody tr th:only-of-type {\n",
       "        vertical-align: middle;\n",
       "    }\n",
       "\n",
       "    .dataframe tbody tr th {\n",
       "        vertical-align: top;\n",
       "    }\n",
       "\n",
       "    .dataframe thead th {\n",
       "        text-align: right;\n",
       "    }\n",
       "</style>\n",
       "<table border=\"1\" class=\"dataframe\">\n",
       "  <thead>\n",
       "    <tr style=\"text-align: right;\">\n",
       "      <th></th>\n",
       "      <th>close</th>\n",
       "      <th>volume</th>\n",
       "      <th>open</th>\n",
       "      <th>high</th>\n",
       "      <th>low</th>\n",
       "      <th>news_compound</th>\n",
       "      <th>news_neg</th>\n",
       "      <th>news_neu</th>\n",
       "      <th>news_pos</th>\n",
       "      <th>elon_compound</th>\n",
       "      <th>...</th>\n",
       "      <th>iLounge</th>\n",
       "      <th>iMore</th>\n",
       "      <th>iPhone Hacks</th>\n",
       "      <th>iPhone in Canada Blog</th>\n",
       "      <th>lists.swift.org Mailing Lists</th>\n",
       "      <th>volatility</th>\n",
       "      <th>next_day_open</th>\n",
       "      <th>daily_gain</th>\n",
       "      <th>daily_change</th>\n",
       "      <th>target</th>\n",
       "    </tr>\n",
       "    <tr>\n",
       "      <th>date</th>\n",
       "      <th></th>\n",
       "      <th></th>\n",
       "      <th></th>\n",
       "      <th></th>\n",
       "      <th></th>\n",
       "      <th></th>\n",
       "      <th></th>\n",
       "      <th></th>\n",
       "      <th></th>\n",
       "      <th></th>\n",
       "      <th></th>\n",
       "      <th></th>\n",
       "      <th></th>\n",
       "      <th></th>\n",
       "      <th></th>\n",
       "      <th></th>\n",
       "      <th></th>\n",
       "      <th></th>\n",
       "      <th></th>\n",
       "      <th></th>\n",
       "      <th></th>\n",
       "    </tr>\n",
       "  </thead>\n",
       "  <tbody>\n",
       "    <tr>\n",
       "      <th>2010-06-29</th>\n",
       "      <td>23.89</td>\n",
       "      <td>18751150.0</td>\n",
       "      <td>19.00</td>\n",
       "      <td>25.0000</td>\n",
       "      <td>17.54</td>\n",
       "      <td>0.0</td>\n",
       "      <td>0.0</td>\n",
       "      <td>0.0</td>\n",
       "      <td>0.0</td>\n",
       "      <td>0.0</td>\n",
       "      <td>...</td>\n",
       "      <td>0</td>\n",
       "      <td>0</td>\n",
       "      <td>0</td>\n",
       "      <td>0</td>\n",
       "      <td>0</td>\n",
       "      <td>7.4600</td>\n",
       "      <td>25.79</td>\n",
       "      <td>4.89</td>\n",
       "      <td>0.257368</td>\n",
       "      <td>-0.075998</td>\n",
       "    </tr>\n",
       "    <tr>\n",
       "      <th>2010-06-30</th>\n",
       "      <td>23.83</td>\n",
       "      <td>17165210.0</td>\n",
       "      <td>25.79</td>\n",
       "      <td>30.4192</td>\n",
       "      <td>23.30</td>\n",
       "      <td>0.0</td>\n",
       "      <td>0.0</td>\n",
       "      <td>0.0</td>\n",
       "      <td>0.0</td>\n",
       "      <td>0.0</td>\n",
       "      <td>...</td>\n",
       "      <td>0</td>\n",
       "      <td>0</td>\n",
       "      <td>0</td>\n",
       "      <td>0</td>\n",
       "      <td>0</td>\n",
       "      <td>7.1192</td>\n",
       "      <td>25.00</td>\n",
       "      <td>-1.96</td>\n",
       "      <td>-0.075998</td>\n",
       "      <td>-0.121600</td>\n",
       "    </tr>\n",
       "    <tr>\n",
       "      <th>2010-07-01</th>\n",
       "      <td>21.96</td>\n",
       "      <td>8216789.0</td>\n",
       "      <td>25.00</td>\n",
       "      <td>25.9200</td>\n",
       "      <td>20.27</td>\n",
       "      <td>0.0</td>\n",
       "      <td>0.0</td>\n",
       "      <td>0.0</td>\n",
       "      <td>0.0</td>\n",
       "      <td>0.0</td>\n",
       "      <td>...</td>\n",
       "      <td>0</td>\n",
       "      <td>0</td>\n",
       "      <td>0</td>\n",
       "      <td>0</td>\n",
       "      <td>0</td>\n",
       "      <td>5.6500</td>\n",
       "      <td>23.00</td>\n",
       "      <td>-3.04</td>\n",
       "      <td>-0.121600</td>\n",
       "      <td>-0.165217</td>\n",
       "    </tr>\n",
       "    <tr>\n",
       "      <th>2010-07-02</th>\n",
       "      <td>19.20</td>\n",
       "      <td>5135795.0</td>\n",
       "      <td>23.00</td>\n",
       "      <td>23.1000</td>\n",
       "      <td>18.71</td>\n",
       "      <td>0.0</td>\n",
       "      <td>0.0</td>\n",
       "      <td>0.0</td>\n",
       "      <td>0.0</td>\n",
       "      <td>0.0</td>\n",
       "      <td>...</td>\n",
       "      <td>0</td>\n",
       "      <td>0</td>\n",
       "      <td>0</td>\n",
       "      <td>0</td>\n",
       "      <td>0</td>\n",
       "      <td>4.3900</td>\n",
       "      <td>20.00</td>\n",
       "      <td>-3.80</td>\n",
       "      <td>-0.165217</td>\n",
       "      <td>-0.194500</td>\n",
       "    </tr>\n",
       "    <tr>\n",
       "      <th>2010-07-06</th>\n",
       "      <td>16.11</td>\n",
       "      <td>6858092.0</td>\n",
       "      <td>20.00</td>\n",
       "      <td>20.0000</td>\n",
       "      <td>15.83</td>\n",
       "      <td>0.0</td>\n",
       "      <td>0.0</td>\n",
       "      <td>0.0</td>\n",
       "      <td>0.0</td>\n",
       "      <td>0.0</td>\n",
       "      <td>...</td>\n",
       "      <td>0</td>\n",
       "      <td>0</td>\n",
       "      <td>0</td>\n",
       "      <td>0</td>\n",
       "      <td>0</td>\n",
       "      <td>4.1700</td>\n",
       "      <td>16.40</td>\n",
       "      <td>-3.89</td>\n",
       "      <td>-0.194500</td>\n",
       "      <td>-0.036585</td>\n",
       "    </tr>\n",
       "  </tbody>\n",
       "</table>\n",
       "<p>5 rows × 3320 columns</p>\n",
       "</div>"
      ],
      "text/plain": [
       "            close      volume   open     high    low  news_compound  news_neg  \\\n",
       "date                                                                            \n",
       "2010-06-29  23.89  18751150.0  19.00  25.0000  17.54            0.0       0.0   \n",
       "2010-06-30  23.83  17165210.0  25.79  30.4192  23.30            0.0       0.0   \n",
       "2010-07-01  21.96   8216789.0  25.00  25.9200  20.27            0.0       0.0   \n",
       "2010-07-02  19.20   5135795.0  23.00  23.1000  18.71            0.0       0.0   \n",
       "2010-07-06  16.11   6858092.0  20.00  20.0000  15.83            0.0       0.0   \n",
       "\n",
       "            news_neu  news_pos  elon_compound    ...     iLounge  iMore  \\\n",
       "date                                             ...                      \n",
       "2010-06-29       0.0       0.0            0.0    ...           0      0   \n",
       "2010-06-30       0.0       0.0            0.0    ...           0      0   \n",
       "2010-07-01       0.0       0.0            0.0    ...           0      0   \n",
       "2010-07-02       0.0       0.0            0.0    ...           0      0   \n",
       "2010-07-06       0.0       0.0            0.0    ...           0      0   \n",
       "\n",
       "            iPhone Hacks  iPhone in Canada Blog  \\\n",
       "date                                              \n",
       "2010-06-29             0                      0   \n",
       "2010-06-30             0                      0   \n",
       "2010-07-01             0                      0   \n",
       "2010-07-02             0                      0   \n",
       "2010-07-06             0                      0   \n",
       "\n",
       "            lists.swift.org Mailing Lists  volatility  next_day_open  \\\n",
       "date                                                                   \n",
       "2010-06-29                              0      7.4600          25.79   \n",
       "2010-06-30                              0      7.1192          25.00   \n",
       "2010-07-01                              0      5.6500          23.00   \n",
       "2010-07-02                              0      4.3900          20.00   \n",
       "2010-07-06                              0      4.1700          16.40   \n",
       "\n",
       "            daily_gain  daily_change    target  \n",
       "date                                            \n",
       "2010-06-29        4.89      0.257368 -0.075998  \n",
       "2010-06-30       -1.96     -0.075998 -0.121600  \n",
       "2010-07-01       -3.04     -0.121600 -0.165217  \n",
       "2010-07-02       -3.80     -0.165217 -0.194500  \n",
       "2010-07-06       -3.89     -0.194500 -0.036585  \n",
       "\n",
       "[5 rows x 3320 columns]"
      ]
     },
     "execution_count": 200,
     "metadata": {},
     "output_type": "execute_result"
    }
   ],
   "source": [
    "stock['target'] = stock.daily_change.shift(-1)\n",
    "stock.head()"
   ]
  },
  {
   "cell_type": "code",
   "execution_count": 201,
   "metadata": {},
   "outputs": [],
   "source": [
    "stock['next_day_open'] = stock.open.shift(-1) \n",
    "stock['true_grow'] = stock.target.apply(lambda x: 1 if x >= 0 else 0)"
   ]
  },
  {
   "cell_type": "code",
   "execution_count": 202,
   "metadata": {},
   "outputs": [],
   "source": [
    "X = stock.iloc[925:-1].drop(['volatility', 'volume', 'high', 'low', 'close', 'open', 'target', 'true_grow'], 1)\n",
    "y = stock.iloc[925:-1].true_grow"
   ]
  },
  {
   "cell_type": "code",
   "execution_count": 203,
   "metadata": {},
   "outputs": [],
   "source": [
    "X_train, X_test, y_train, y_test = train_test_split(X, y, test_size=0.3, random_state=42)"
   ]
  },
  {
   "cell_type": "code",
   "execution_count": 204,
   "metadata": {},
   "outputs": [
    {
     "name": "stdout",
     "output_type": "stream",
     "text": [
      "True Negative:  69 | False Positive:  73\n",
      "False Negative:  68 | True Positive:  72 \n",
      "\n",
      "Sensitivity (TP/ TP + FN):  0.514285714286\n",
      "Specificity (TN/ TN + FP):  0.485915492958 \n",
      "\n",
      "Accuracy:  0.5\n",
      "Precision:  0.496551724138\n",
      "Roc-Auc:  0.490945674044\n",
      "\n",
      "\n"
     ]
    }
   ],
   "source": [
    "xgb = XGBClassifier(objective='binary:logistic')\n",
    "xgb.fit(X_train, y_train)\n",
    "test_predictions = xgb.predict(X_test)\n",
    "eval_sklearn_model(y_test, test_predictions, model=xgb, X=X_test)"
   ]
  },
  {
   "cell_type": "code",
   "execution_count": null,
   "metadata": {},
   "outputs": [],
   "source": []
  }
 ],
 "metadata": {
  "kernelspec": {
   "display_name": "Python 3",
   "language": "python",
   "name": "python3"
  },
  "language_info": {
   "codemirror_mode": {
    "name": "ipython",
    "version": 3
   },
   "file_extension": ".py",
   "mimetype": "text/x-python",
   "name": "python",
   "nbconvert_exporter": "python",
   "pygments_lexer": "ipython3",
   "version": "3.6.3"
  }
 },
 "nbformat": 4,
 "nbformat_minor": 2
}
