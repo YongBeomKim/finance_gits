{
 "cells": [
  {
   "cell_type": "code",
   "execution_count": 54,
   "metadata": {},
   "outputs": [],
   "source": [
    "# For today's fun we'll be using the following packages:\n",
    "import requests\n",
    "from bs4 import BeautifulSoup\n",
    "import time as time\n",
    "import pandas as pd\n",
    "import pickle"
   ]
  },
  {
   "cell_type": "markdown",
   "metadata": {},
   "source": [
    "# Build the scraper!"
   ]
  },
  {
   "cell_type": "code",
   "execution_count": 90,
   "metadata": {},
   "outputs": [],
   "source": [
    "def techmeme_scrap(search_page, dataframe):\n",
    "    \"\"\"This function parses a url request from the TechMeme search and appends the results to an existing pandas dataframe.\"\"\"\n",
    "    for num, item in enumerate(BeautifulSoup(search_page.text, 'lxml').find_all('div', {'class':'item'})):\n",
    "        try:\n",
    "            in_context = item.find('div', {'class' : 'iinf'}).a['href']\n",
    "            for i in range(6):\n",
    "                context_url = requests.get(in_context)\n",
    "                if context_url.status_code == 200:\n",
    "                    break\n",
    "                else:\n",
    "                    print('Hand smack!')\n",
    "                    time(60)\n",
    "                    continue\n",
    "        except:\n",
    "            if num <10:\n",
    "                print('Item: ', num+1, '\\nCannot find \"in context\" link.')\n",
    "            continue\n",
    "        date = item.find('span', {'class' : 'idate'}).text\n",
    "        original_source = item.find('a').text\n",
    "        original_title = item.find('div', {'class':'ii'}).text\n",
    "        extra_sources = []\n",
    "        extra_titles = []\n",
    "        for context_item in BeautifulSoup(context_url.text, 'lxml').find_all('div', {'class':'item'}):\n",
    "            try:\n",
    "                if context_item.find('span')['pml'] == in_context[-9:]:\n",
    "                    for extra in context_item.find_all('div', {'class':'di'}):\n",
    "                        extra_sources.append(extra.find('a').text)\n",
    "                        extra_titles.append(extra.find_all('a')[1].text)\n",
    "                else:\n",
    "                    continue\n",
    "            except:\n",
    "                pass\n",
    "        dataframe.loc[len(dataframe)]=[date, original_source, original_title, extra_sources, extra_titles]\n",
    "\n",
    "def techmeme_search(start_url, dataframe):\n",
    "    first_request = requests.get(start_url)\n",
    "    extra_pages = int(BeautifulSoup(first_request.text, 'lxml').find('h2').text.split(' ')[-1].rstrip(':'))//10\n",
    "    print('Total pages to scrap: ', extra_pages+1)\n",
    "    print('Page: 1')\n",
    "    print(start_url)\n",
    "    techmeme_scrap(first_request, dataframe)\n",
    "    for page in range(1, extra_pages+1):\n",
    "        next_url = start_url[:-1] + str((page*10))\n",
    "        print('Page: ', page+1)\n",
    "        print(next_url)\n",
    "        for i in range(6):\n",
    "            next_request = requests.get(next_url)\n",
    "            if next_request.status_code == 200:\n",
    "                techmeme_scrap(next_request, dataframe)\n",
    "                break\n",
    "            else:\n",
    "                print('Hand smack!')\n",
    "                time(60)\n",
    "                continue\n",
    "                "
   ]
  },
  {
   "cell_type": "markdown",
   "metadata": {},
   "source": [
    "# Run it!"
   ]
  },
  {
   "cell_type": "code",
   "execution_count": 91,
   "metadata": {},
   "outputs": [],
   "source": [
    "# Initialize your empty DataFrame.\n",
    "techmeme_df = pd.DataFrame(columns=['date', 'original_source', 'original_title', 'extra_sources', 'extra_titles'])"
   ]
  },
  {
   "cell_type": "code",
   "execution_count": 92,
   "metadata": {
    "scrolled": false
   },
   "outputs": [
    {
     "name": "stdout",
     "output_type": "stream",
     "text": [
      "Total pages to scrap:  11\n",
      "Page: 1\n",
      "https://www.techmeme.com/search/d3results.jsp?q=title%3ATesla&wm=false&start=0\n",
      "Page:  2\n",
      "https://www.techmeme.com/search/d3results.jsp?q=title%3ATesla&wm=false&start=10\n",
      "Page:  3\n",
      "https://www.techmeme.com/search/d3results.jsp?q=title%3ATesla&wm=false&start=20\n",
      "Page:  4\n",
      "https://www.techmeme.com/search/d3results.jsp?q=title%3ATesla&wm=false&start=30\n",
      "Page:  5\n",
      "https://www.techmeme.com/search/d3results.jsp?q=title%3ATesla&wm=false&start=40\n",
      "Page:  6\n",
      "https://www.techmeme.com/search/d3results.jsp?q=title%3ATesla&wm=false&start=50\n",
      "Page:  7\n",
      "https://www.techmeme.com/search/d3results.jsp?q=title%3ATesla&wm=false&start=60\n",
      "Page:  8\n",
      "https://www.techmeme.com/search/d3results.jsp?q=title%3ATesla&wm=false&start=70\n",
      "Page:  9\n",
      "https://www.techmeme.com/search/d3results.jsp?q=title%3ATesla&wm=false&start=80\n",
      "Page:  10\n",
      "https://www.techmeme.com/search/d3results.jsp?q=title%3ATesla&wm=false&start=90\n",
      "Page:  11\n",
      "https://www.techmeme.com/search/d3results.jsp?q=title%3ATesla&wm=false&start=100\n",
      "Item:  7 \n",
      "Cannot find \"in context\" link.\n",
      "Item:  8 \n",
      "Cannot find \"in context\" link.\n",
      "Item:  9 \n",
      "Cannot find \"in context\" link.\n",
      "Item:  10 \n",
      "Cannot find \"in context\" link.\n"
     ]
    }
   ],
   "source": [
    "# Give it a starting url and run the techmeme_search funtion.\n",
    "start_url = 'https://www.techmeme.com/search/d3results.jsp?q=title%3ATesla&wm=false&start=0'\n",
    "techmeme_search(start_url, techmeme_df)"
   ]
  },
  {
   "cell_type": "code",
   "execution_count": 93,
   "metadata": {},
   "outputs": [
    {
     "data": {
      "text/plain": [
       "(106, 5)"
      ]
     },
     "execution_count": 93,
     "metadata": {},
     "output_type": "execute_result"
    }
   ],
   "source": [
    "# Check that it is the same size as what you were expecting.\n",
    "techmeme_df.shape"
   ]
  },
  {
   "cell_type": "code",
   "execution_count": 95,
   "metadata": {},
   "outputs": [],
   "source": [
    "# Save it in your prefered format.  Or both.  You do you.\n",
    "pickle.dump(techmeme_df, open('techmeme_df.pkl', 'wb'))\n",
    "techmeme_df.to_csv('techmeme.csv')"
   ]
  }
 ],
 "metadata": {
  "kernelspec": {
   "display_name": "Python 3",
   "language": "python",
   "name": "python3"
  }
 },
 "nbformat": 4,
 "nbformat_minor": 2
}
